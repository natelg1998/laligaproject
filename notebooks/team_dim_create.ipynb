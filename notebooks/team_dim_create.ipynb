{
 "cells": [
  {
   "cell_type": "code",
   "execution_count": 1,
   "id": "d184eb33-9a66-4531-b9cb-d6623eeb27e5",
   "metadata": {},
   "outputs": [],
   "source": [
    "import os\n",
    "import pandas as pd\n",
    "import numpy as np\n",
    "import matplotlib.pyplot as plt\n",
    "%matplotlib inline\n",
    "from pathlib import Path\n",
    "import warnings\n",
    "import psycopg2\n",
    "from sqlalchemy import create_engine\n",
    "warnings.filterwarnings('ignore')\n",
    "import sys\n",
    "import pickle\n",
    "from pprint import pprint\n",
    "\n",
    "sys.path.insert(0, os.path.realpath('..\\src'))\n",
    "from database.database_config import DB_NAME, DB_USER, DB_PASSWORD, DB_HOST"
   ]
  },
  {
   "cell_type": "code",
   "execution_count": 2,
   "id": "679d8daa-8c5a-412d-9244-2992969368ea",
   "metadata": {},
   "outputs": [],
   "source": [
    "match_merge = pd.read_pickle(os.path.realpath('../data/preprocessed/match_merged.pkl'))"
   ]
  },
  {
   "cell_type": "code",
   "execution_count": 3,
   "id": "d324eb0a-12ab-485f-856b-4fa245a7fba5",
   "metadata": {},
   "outputs": [],
   "source": [
    "team_dimension_extract = match_merge[['home']]"
   ]
  },
  {
   "cell_type": "code",
   "execution_count": 4,
   "id": "f77e58d2-0ec2-4492-9bcc-a2b63cb1bba3",
   "metadata": {},
   "outputs": [
    {
     "data": {
      "text/plain": [
       "array(['Alavés', 'Athletic Club', 'Atlético Madrid', 'Barcelona', 'Betis',\n",
       "       'Celta Vigo', 'Cádiz', 'Eibar', 'Elche', 'Espanyol', 'Getafe',\n",
       "       'Girona', 'Granada', 'Huesca', 'La Coruña', 'Las Palmas',\n",
       "       'Leganés', 'Levante', 'Mallorca', 'Málaga', 'Osasuna',\n",
       "       'Rayo Vallecano', 'Real Madrid', 'Real Sociedad', 'Sevilla',\n",
       "       'Valencia', 'Valladolid', 'Villarreal'], dtype=object)"
      ]
     },
     "execution_count": 4,
     "metadata": {},
     "output_type": "execute_result"
    }
   ],
   "source": [
    "team_dimension_extract['home'].sort_values().unique()"
   ]
  },
  {
   "cell_type": "code",
   "execution_count": 6,
   "id": "5f3b276f-83d5-47a2-91c8-f348487e0ecb",
   "metadata": {},
   "outputs": [
    {
     "data": {
      "text/html": [
       "<div>\n",
       "<style scoped>\n",
       "    .dataframe tbody tr th:only-of-type {\n",
       "        vertical-align: middle;\n",
       "    }\n",
       "\n",
       "    .dataframe tbody tr th {\n",
       "        vertical-align: top;\n",
       "    }\n",
       "\n",
       "    .dataframe thead th {\n",
       "        text-align: right;\n",
       "    }\n",
       "</style>\n",
       "<table border=\"1\" class=\"dataframe\">\n",
       "  <thead>\n",
       "    <tr style=\"text-align: right;\">\n",
       "      <th></th>\n",
       "      <th>home</th>\n",
       "    </tr>\n",
       "  </thead>\n",
       "  <tbody>\n",
       "    <tr>\n",
       "      <th>0</th>\n",
       "      <td>Leganés</td>\n",
       "    </tr>\n",
       "    <tr>\n",
       "      <th>1</th>\n",
       "      <td>Valencia</td>\n",
       "    </tr>\n",
       "    <tr>\n",
       "      <th>2</th>\n",
       "      <td>Celta Vigo</td>\n",
       "    </tr>\n",
       "    <tr>\n",
       "      <th>3</th>\n",
       "      <td>Girona</td>\n",
       "    </tr>\n",
       "    <tr>\n",
       "      <th>4</th>\n",
       "      <td>Sevilla</td>\n",
       "    </tr>\n",
       "    <tr>\n",
       "      <th>...</th>\n",
       "      <td>...</td>\n",
       "    </tr>\n",
       "    <tr>\n",
       "      <th>1895</th>\n",
       "      <td>Sevilla</td>\n",
       "    </tr>\n",
       "    <tr>\n",
       "      <th>1896</th>\n",
       "      <td>Real Sociedad</td>\n",
       "    </tr>\n",
       "    <tr>\n",
       "      <th>1897</th>\n",
       "      <td>Granada</td>\n",
       "    </tr>\n",
       "    <tr>\n",
       "      <th>1898</th>\n",
       "      <td>Elche</td>\n",
       "    </tr>\n",
       "    <tr>\n",
       "      <th>1899</th>\n",
       "      <td>Osasuna</td>\n",
       "    </tr>\n",
       "  </tbody>\n",
       "</table>\n",
       "<p>1900 rows × 1 columns</p>\n",
       "</div>"
      ],
      "text/plain": [
       "               home\n",
       "0           Leganés\n",
       "1          Valencia\n",
       "2        Celta Vigo\n",
       "3            Girona\n",
       "4           Sevilla\n",
       "...             ...\n",
       "1895        Sevilla\n",
       "1896  Real Sociedad\n",
       "1897        Granada\n",
       "1898          Elche\n",
       "1899        Osasuna\n",
       "\n",
       "[1900 rows x 1 columns]"
      ]
     },
     "execution_count": 6,
     "metadata": {},
     "output_type": "execute_result"
    }
   ],
   "source": [
    "team_dimension_extract"
   ]
  },
  {
   "cell_type": "code",
   "execution_count": 7,
   "id": "511e093f-6582-454d-8d82-64c9dd03de77",
   "metadata": {},
   "outputs": [],
   "source": [
    "team_dim = [i for i in team_dimension_extract['home'].sort_values().unique()]"
   ]
  },
  {
   "cell_type": "code",
   "execution_count": 8,
   "id": "d71abf5c-4284-474c-95de-554458c08aa5",
   "metadata": {},
   "outputs": [
    {
     "data": {
      "text/plain": [
       "['Alavés',\n",
       " 'Athletic Club',\n",
       " 'Atlético Madrid',\n",
       " 'Barcelona',\n",
       " 'Betis',\n",
       " 'Celta Vigo',\n",
       " 'Cádiz',\n",
       " 'Eibar',\n",
       " 'Elche',\n",
       " 'Espanyol',\n",
       " 'Getafe',\n",
       " 'Girona',\n",
       " 'Granada',\n",
       " 'Huesca',\n",
       " 'La Coruña',\n",
       " 'Las Palmas',\n",
       " 'Leganés',\n",
       " 'Levante',\n",
       " 'Mallorca',\n",
       " 'Málaga',\n",
       " 'Osasuna',\n",
       " 'Rayo Vallecano',\n",
       " 'Real Madrid',\n",
       " 'Real Sociedad',\n",
       " 'Sevilla',\n",
       " 'Valencia',\n",
       " 'Valladolid',\n",
       " 'Villarreal']"
      ]
     },
     "execution_count": 8,
     "metadata": {},
     "output_type": "execute_result"
    }
   ],
   "source": [
    "team_dim"
   ]
  },
  {
   "cell_type": "code",
   "execution_count": 9,
   "id": "52f27cc4-78fa-4556-a176-5bdd3a1a483b",
   "metadata": {},
   "outputs": [],
   "source": [
    "teams_dimension = pd.DataFrame(team_dim, columns = ['team_name'])"
   ]
  },
  {
   "cell_type": "code",
   "execution_count": 10,
   "id": "e5f4f6c6-a816-40df-9072-3fd1e64db14d",
   "metadata": {},
   "outputs": [
    {
     "data": {
      "text/html": [
       "<div>\n",
       "<style scoped>\n",
       "    .dataframe tbody tr th:only-of-type {\n",
       "        vertical-align: middle;\n",
       "    }\n",
       "\n",
       "    .dataframe tbody tr th {\n",
       "        vertical-align: top;\n",
       "    }\n",
       "\n",
       "    .dataframe thead th {\n",
       "        text-align: right;\n",
       "    }\n",
       "</style>\n",
       "<table border=\"1\" class=\"dataframe\">\n",
       "  <thead>\n",
       "    <tr style=\"text-align: right;\">\n",
       "      <th></th>\n",
       "      <th>team_name</th>\n",
       "    </tr>\n",
       "  </thead>\n",
       "  <tbody>\n",
       "    <tr>\n",
       "      <th>0</th>\n",
       "      <td>Alavés</td>\n",
       "    </tr>\n",
       "    <tr>\n",
       "      <th>1</th>\n",
       "      <td>Athletic Club</td>\n",
       "    </tr>\n",
       "    <tr>\n",
       "      <th>2</th>\n",
       "      <td>Atlético Madrid</td>\n",
       "    </tr>\n",
       "    <tr>\n",
       "      <th>3</th>\n",
       "      <td>Barcelona</td>\n",
       "    </tr>\n",
       "    <tr>\n",
       "      <th>4</th>\n",
       "      <td>Betis</td>\n",
       "    </tr>\n",
       "    <tr>\n",
       "      <th>5</th>\n",
       "      <td>Celta Vigo</td>\n",
       "    </tr>\n",
       "    <tr>\n",
       "      <th>6</th>\n",
       "      <td>Cádiz</td>\n",
       "    </tr>\n",
       "    <tr>\n",
       "      <th>7</th>\n",
       "      <td>Eibar</td>\n",
       "    </tr>\n",
       "    <tr>\n",
       "      <th>8</th>\n",
       "      <td>Elche</td>\n",
       "    </tr>\n",
       "    <tr>\n",
       "      <th>9</th>\n",
       "      <td>Espanyol</td>\n",
       "    </tr>\n",
       "    <tr>\n",
       "      <th>10</th>\n",
       "      <td>Getafe</td>\n",
       "    </tr>\n",
       "    <tr>\n",
       "      <th>11</th>\n",
       "      <td>Girona</td>\n",
       "    </tr>\n",
       "    <tr>\n",
       "      <th>12</th>\n",
       "      <td>Granada</td>\n",
       "    </tr>\n",
       "    <tr>\n",
       "      <th>13</th>\n",
       "      <td>Huesca</td>\n",
       "    </tr>\n",
       "    <tr>\n",
       "      <th>14</th>\n",
       "      <td>La Coruña</td>\n",
       "    </tr>\n",
       "    <tr>\n",
       "      <th>15</th>\n",
       "      <td>Las Palmas</td>\n",
       "    </tr>\n",
       "    <tr>\n",
       "      <th>16</th>\n",
       "      <td>Leganés</td>\n",
       "    </tr>\n",
       "    <tr>\n",
       "      <th>17</th>\n",
       "      <td>Levante</td>\n",
       "    </tr>\n",
       "    <tr>\n",
       "      <th>18</th>\n",
       "      <td>Mallorca</td>\n",
       "    </tr>\n",
       "    <tr>\n",
       "      <th>19</th>\n",
       "      <td>Málaga</td>\n",
       "    </tr>\n",
       "    <tr>\n",
       "      <th>20</th>\n",
       "      <td>Osasuna</td>\n",
       "    </tr>\n",
       "    <tr>\n",
       "      <th>21</th>\n",
       "      <td>Rayo Vallecano</td>\n",
       "    </tr>\n",
       "    <tr>\n",
       "      <th>22</th>\n",
       "      <td>Real Madrid</td>\n",
       "    </tr>\n",
       "    <tr>\n",
       "      <th>23</th>\n",
       "      <td>Real Sociedad</td>\n",
       "    </tr>\n",
       "    <tr>\n",
       "      <th>24</th>\n",
       "      <td>Sevilla</td>\n",
       "    </tr>\n",
       "    <tr>\n",
       "      <th>25</th>\n",
       "      <td>Valencia</td>\n",
       "    </tr>\n",
       "    <tr>\n",
       "      <th>26</th>\n",
       "      <td>Valladolid</td>\n",
       "    </tr>\n",
       "    <tr>\n",
       "      <th>27</th>\n",
       "      <td>Villarreal</td>\n",
       "    </tr>\n",
       "  </tbody>\n",
       "</table>\n",
       "</div>"
      ],
      "text/plain": [
       "          team_name\n",
       "0            Alavés\n",
       "1     Athletic Club\n",
       "2   Atlético Madrid\n",
       "3         Barcelona\n",
       "4             Betis\n",
       "5        Celta Vigo\n",
       "6             Cádiz\n",
       "7             Eibar\n",
       "8             Elche\n",
       "9          Espanyol\n",
       "10           Getafe\n",
       "11           Girona\n",
       "12          Granada\n",
       "13           Huesca\n",
       "14        La Coruña\n",
       "15       Las Palmas\n",
       "16          Leganés\n",
       "17          Levante\n",
       "18         Mallorca\n",
       "19           Málaga\n",
       "20          Osasuna\n",
       "21   Rayo Vallecano\n",
       "22      Real Madrid\n",
       "23    Real Sociedad\n",
       "24          Sevilla\n",
       "25         Valencia\n",
       "26       Valladolid\n",
       "27       Villarreal"
      ]
     },
     "execution_count": 10,
     "metadata": {},
     "output_type": "execute_result"
    }
   ],
   "source": [
    "teams_dimension"
   ]
  },
  {
   "cell_type": "code",
   "execution_count": 11,
   "id": "998b37c2-8b91-4d70-ad9d-2c8a526dab71",
   "metadata": {},
   "outputs": [],
   "source": [
    "db = create_engine(f\"postgresql+psycopg2://{DB_USER}:{DB_PASSWORD}@{DB_HOST}/{DB_NAME}\")\n",
    "conn = db.connect()"
   ]
  },
  {
   "cell_type": "code",
   "execution_count": 12,
   "id": "1ffa9a46-3931-480e-a69b-e9e5d39ed392",
   "metadata": {},
   "outputs": [
    {
     "data": {
      "text/plain": [
       "28"
      ]
     },
     "execution_count": 12,
     "metadata": {},
     "output_type": "execute_result"
    }
   ],
   "source": [
    "teams_dimension.to_sql(\n",
    "        \"teams\", con=conn, schema=\"laliga_wh\", if_exists=\"replace\", index=False\n",
    "    )"
   ]
  },
  {
   "cell_type": "code",
   "execution_count": 13,
   "id": "c84e8a29-e2c5-4e82-b172-9cdf36be53ce",
   "metadata": {},
   "outputs": [],
   "source": [
    "conn.execute(\n",
    "        \"\"\"ALTER TABLE laliga_wh.teams \n",
    "                        ADD COLUMN team_id SERIAL PRIMARY KEY;\"\"\"\n",
    "    )\n",
    "conn.close()"
   ]
  }
 ],
 "metadata": {
  "kernelspec": {
   "display_name": "Python 3 (ipykernel)",
   "language": "python",
   "name": "python3"
  },
  "language_info": {
   "codemirror_mode": {
    "name": "ipython",
    "version": 3
   },
   "file_extension": ".py",
   "mimetype": "text/x-python",
   "name": "python",
   "nbconvert_exporter": "python",
   "pygments_lexer": "ipython3",
   "version": "3.9.13"
  }
 },
 "nbformat": 4,
 "nbformat_minor": 5
}
